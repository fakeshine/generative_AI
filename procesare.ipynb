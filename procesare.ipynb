{
 "cells": [
  {
   "attachments": {},
   "cell_type": "markdown",
   "metadata": {},
   "source": [
    "### Crop Objects"
   ]
  },
  {
   "cell_type": "code",
   "execution_count": 1,
   "metadata": {},
   "outputs": [],
   "source": [
    "# IMPORT\n",
    "\n",
    "import cv2\n",
    "import numpy as np\n",
    "import os\n"
   ]
  },
  {
   "cell_type": "code",
   "execution_count": 13,
   "metadata": {},
   "outputs": [],
   "source": [
    "zebra_images_path = 'navy_zebra_images/'\n",
    "labels_path = 'runs/detect/exp/labels/'\n",
    "\n",
    "x_center = []\n",
    "y_center = []\n",
    "width = []\n",
    "height = []\n",
    "\n",
    "row_top_bbox = []\n",
    "row_bottom_bbox = []\n",
    "col_left_bbox = []\n",
    "col_right_bbox = []\n",
    "\n",
    "i = 0\n",
    "# 512x512 = image size\n",
    "\n",
    "for file in os.listdir(labels_path):\n",
    "\n",
    "    label_file_path = os.path.join(labels_path, file)\n",
    "    with open(label_file_path, 'r') as my_file:\n",
    "        line = my_file.readline()\n",
    "        parameters = line.split(' ')\n",
    "        x_center.append(float(parameters[1]) * 512)\n",
    "        y_center.append(float(parameters[2]) * 512)\n",
    "        width.append(float(parameters[3]) * 512)\n",
    "        height.append(float(parameters[4]) * 512)\n",
    "\n",
    "    row_top_bbox.append(int(y_center[i] - height[i] / 2))\n",
    "    row_bottom_bbox.append(int(y_center[i] + height[i] / 2))\n",
    "    col_left_bbox.append(int(x_center[i] - width[i] / 2))\n",
    "    col_right_bbox.append(int(x_center[i] + width[i] / 2))\n",
    "    i += 1\n",
    "\n",
    "# display(row_top_bbox)\n",
    "# display(row_bottom_bbox)\n",
    "# display(col_left_bbox)\n",
    "# display(col_right_bbox)\n",
    "        \n",
    "i = 0\n",
    "\n",
    "for file in os.listdir(zebra_images_path):\n",
    "    image_path = os.path.join(zebra_images_path, file)\n",
    "    image = cv2.imread(image_path)\n",
    "    # cv2.imshow('image', image)\n",
    "    # cv2.waitKey(0)\n",
    "    # cv2.destroyAllWindows()\n",
    "    image = image[row_top_bbox[i]:row_bottom_bbox[i], col_left_bbox[i]:col_right_bbox[i]]\n",
    "    i += 1\n",
    "    # cv2.imshow(f'cropped_image{i+1}', image)\n",
    "    # cv2.waitKey(0)\n",
    "    # cv2.destroyAllWindows()\n",
    "    save_path = 'navy_zebra_images/cropped_' + file\n",
    "    cv2.imwrite(save_path , image)\n",
    "    \n",
    "\n"
   ]
  }
 ],
 "metadata": {
  "kernelspec": {
   "display_name": "am",
   "language": "python",
   "name": "python3"
  },
  "language_info": {
   "codemirror_mode": {
    "name": "ipython",
    "version": 3
   },
   "file_extension": ".py",
   "mimetype": "text/x-python",
   "name": "python",
   "nbconvert_exporter": "python",
   "pygments_lexer": "ipython3",
   "version": "3.10.2"
  },
  "orig_nbformat": 4
 },
 "nbformat": 4,
 "nbformat_minor": 2
}
